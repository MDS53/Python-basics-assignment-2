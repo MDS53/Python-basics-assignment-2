{
 "cells": [
  {
   "cell_type": "markdown",
   "id": "c3fdf1e7",
   "metadata": {},
   "source": [
    "### 1.What are the two values of the Boolean data type? How do you write them?"
   ]
  },
  {
   "cell_type": "markdown",
   "id": "28a667f6",
   "metadata": {},
   "source": [
    "True, False"
   ]
  },
  {
   "cell_type": "markdown",
   "id": "c0a116b5",
   "metadata": {},
   "source": [
    "### 2) What are the three different types of Boolean operators?"
   ]
  },
  {
   "cell_type": "markdown",
   "id": "a6995911",
   "metadata": {},
   "source": [
    "and , or , and not"
   ]
  },
  {
   "cell_type": "markdown",
   "id": "4859841e",
   "metadata": {},
   "source": [
    "### 3) Make a list of each Boolean operator&#39;s truth tables (i.e. every possible combination of Booleanvalues for the operator and what it evaluate )."
   ]
  },
  {
   "cell_type": "markdown",
   "id": "57013736",
   "metadata": {},
   "source": [
    "#### AND operator\n",
    "\n",
    "True and True = True                     \n",
    "\n",
    "True and False = False\n",
    "\n",
    "False and True = False\n",
    "\n",
    "False and False = False       \n",
    "\n",
    "######  OR operator\n",
    "\n",
    "True or True = True                     \n",
    "\n",
    "True or False = True\n",
    "\n",
    "False or True = True\n",
    "\n",
    "False or False = False\n",
    "######  NOT operator (Symbol -- ~)\n",
    "\n",
    "~True  = False                     \n",
    "~False  = True "
   ]
  },
  {
   "cell_type": "markdown",
   "id": "7ff96657",
   "metadata": {},
   "source": [
    "### 4. What are the values of the following expressions?\n",
    "\n",
    "i) (5 > 4) and (3 == 5)\n",
    "\n",
    "ii) not (5 > 4)\n",
    "\n",
    "iii) (5 > 4) or (3 == 5)\n",
    "\n",
    "iv) not ((5 > 4) or (3 == 5))\n",
    "\n",
    "v) (True and True) and (True == False)\n",
    "\n",
    "vi) (not False) or (not True)"
   ]
  },
  {
   "cell_type": "markdown",
   "id": "f2e8dc3f",
   "metadata": {},
   "source": [
    "i) True and False = False\n",
    "\n",
    "ii) False\n",
    "\n",
    "iii) True or False = True\n",
    "\n",
    "iv) not((True and False)) = ~True = False\n",
    "\n",
    "v) True and False = False\n",
    "\n",
    "vi)(True) or (False) = True\n",
    "    "
   ]
  },
  {
   "cell_type": "markdown",
   "id": "6f26995d",
   "metadata": {},
   "source": [
    "### 5. What are the six comparison operators?"
   ]
  },
  {
   "cell_type": "markdown",
   "id": "ca80b093",
   "metadata": {},
   "source": [
    "< , > , < = , > = , = = , ! ="
   ]
  },
  {
   "cell_type": "markdown",
   "id": "8cff5528",
   "metadata": {},
   "source": [
    "### 6. How  do  you  tell  the  difference  between  the  equal  to  and    assignment  operators? Describe  a  condition and when you would use one."
   ]
  },
  {
   "cell_type": "markdown",
   "id": "344731f4",
   "metadata": {},
   "source": [
    "Equals operator is used for comparison of values and returns a boolean value\n",
    "\n",
    "example : Let say if i want to check variable b is equals to 5 or not that time we use equals operator : b==5  if it is right then it returns true orelse it returns false\n",
    "\n",
    "\n",
    "Assignment operator is used for assigning a value to a variable\n",
    "\n",
    "example : let say if i want to assign a value 2 to a variable b then we can assigment operator : b=5 \n",
    "\n"
   ]
  },
  {
   "cell_type": "markdown",
   "id": "2a99efd9",
   "metadata": {},
   "source": [
    "### 7. Identify the three blocks in this code:"
   ]
  },
  {
   "cell_type": "code",
   "execution_count": 6,
   "id": "464a665e",
   "metadata": {},
   "outputs": [
    {
     "name": "stdout",
     "output_type": "stream",
     "text": [
      "ham\n",
      "spam\n",
      "spam\n"
     ]
    }
   ],
   "source": [
    "spam = 0\n",
    "if spam == 10:\n",
    "    print(\"eggs\")\n",
    "if spam >5 :\n",
    "    print(\"bacon\")\n",
    "else:\n",
    "    print(\"ham\")\n",
    "    print(\"spam\")\n",
    "    print(\"spam\")"
   ]
  },
  {
   "cell_type": "markdown",
   "id": "9ea1d46a",
   "metadata": {},
   "source": [
    "### 8. Write code that prints Hello if 1 is stored in spam, prints Howdy if 2 is stored in spam, and prints  Greetings! if anything else is stored in spam.\n"
   ]
  },
  {
   "cell_type": "code",
   "execution_count": 12,
   "id": "b9c23a46",
   "metadata": {
    "scrolled": true
   },
   "outputs": [
    {
     "data": {
      "text/plain": [
       "'\\n\\nif spam == 1:\\n    print(\"Hello\")\\nif spam ==2:\\n    print(\"Howdy\")\\nelse:\\n    print(\"Greetings!\")\\n\\n\\n'"
      ]
     },
     "execution_count": 12,
     "metadata": {},
     "output_type": "execute_result"
    }
   ],
   "source": [
    "\"\"\"\n",
    "\n",
    "if spam == 1:\n",
    "    print(\"Hello\")\n",
    "if spam ==2:\n",
    "    print(\"Howdy\")\n",
    "else:\n",
    "    print(\"Greetings!\")\n",
    "\n",
    "\n",
    "\"\"\"\n"
   ]
  },
  {
   "cell_type": "markdown",
   "id": "bfcc4ac7",
   "metadata": {},
   "source": [
    "### 9. If your programme is stuck in an endless loop, what keys you’ll press?"
   ]
  },
  {
   "cell_type": "markdown",
   "id": "40f0abb4",
   "metadata": {},
   "source": [
    "externally i would click the interupt the kernel option which is in jupyter notebook"
   ]
  },
  {
   "cell_type": "markdown",
   "id": "c802594e",
   "metadata": {},
   "source": [
    "### 10. How can you tell the difference between break and continue?"
   ]
  },
  {
   "cell_type": "code",
   "execution_count": null,
   "id": "c46a8eee",
   "metadata": {},
   "outputs": [],
   "source": []
  },
  {
   "cell_type": "markdown",
   "id": "de53fa27",
   "metadata": {},
   "source": [
    "### 11. In a for loop, what is the difference between range(10), range(0, 10), and range(0, 10, 1)?"
   ]
  },
  {
   "cell_type": "markdown",
   "id": "7604be18",
   "metadata": {},
   "source": [
    "syntax for range function is - range(start,stop,step):\n",
    "\n",
    "range(10) - Here stop value will be 10 , start bydefault =0 , step bydefault =1\n",
    "\n",
    "range(0, 10) -  Here stop value will be 10 , start  will be 0 , step bydefault =1\n",
    "\n",
    "range(0, 10, 1) - Here stop value will be 10 , start  will be 0 , step will be 1"
   ]
  },
  {
   "cell_type": "markdown",
   "id": "d0065f94",
   "metadata": {},
   "source": [
    "### 12. Write a short program that prints the numbers 1 to 10 using a for loop. Then write an equivalent program that prints the numbers 1 to 10 using a while loop.\n"
   ]
  },
  {
   "cell_type": "code",
   "execution_count": 14,
   "id": "a4cfc6a3",
   "metadata": {
    "scrolled": true
   },
   "outputs": [
    {
     "name": "stdout",
     "output_type": "stream",
     "text": [
      "0\n",
      "1\n",
      "2\n",
      "3\n",
      "4\n",
      "5\n",
      "6\n",
      "7\n",
      "8\n",
      "9\n",
      "10\n"
     ]
    }
   ],
   "source": [
    "for i in range(1,11):\n",
    "    print(i)"
   ]
  },
  {
   "cell_type": "code",
   "execution_count": 25,
   "id": "e62a1a1c",
   "metadata": {
    "scrolled": true
   },
   "outputs": [
    {
     "name": "stdout",
     "output_type": "stream",
     "text": [
      "1\n",
      "2\n",
      "3\n",
      "4\n",
      "5\n",
      "6\n",
      "7\n",
      "8\n",
      "9\n",
      "10\n"
     ]
    }
   ],
   "source": [
    "i=1\n",
    "while (i<=10):\n",
    "    print(i)\n",
    "    i+=1"
   ]
  },
  {
   "cell_type": "markdown",
   "id": "a931afee",
   "metadata": {},
   "source": [
    "### 13. If you had a function named bacon() inside a module named spam, how would you call it after importing spam?\n",
    "\n",
    "import spam as sp\n",
    "\n",
    "sp.bancon()"
   ]
  }
 ],
 "metadata": {
  "kernelspec": {
   "display_name": "Python 3",
   "language": "python",
   "name": "python3"
  },
  "language_info": {
   "codemirror_mode": {
    "name": "ipython",
    "version": 3
   },
   "file_extension": ".py",
   "mimetype": "text/x-python",
   "name": "python",
   "nbconvert_exporter": "python",
   "pygments_lexer": "ipython3",
   "version": "3.8.8"
  }
 },
 "nbformat": 4,
 "nbformat_minor": 5
}
